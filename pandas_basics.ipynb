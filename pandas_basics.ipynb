{
  "nbformat": 4,
  "nbformat_minor": 0,
  "metadata": {
    "colab": {
      "name": "pandas basics",
      "provenance": [],
      "collapsed_sections": [],
      "authorship_tag": "ABX9TyPozQtZtUpHtcq1bEFVYU9l",
      "include_colab_link": true
    },
    "kernelspec": {
      "name": "python3",
      "display_name": "Python 3"
    },
    "language_info": {
      "name": "python"
    }
  },
  "cells": [
    {
      "cell_type": "markdown",
      "metadata": {
        "id": "view-in-github",
        "colab_type": "text"
      },
      "source": [
        "<a href=\"https://colab.research.google.com/github/jc7qx/LearningNotes/blob/master/pandas_basics.ipynb\" target=\"_parent\"><img src=\"https://colab.research.google.com/assets/colab-badge.svg\" alt=\"Open In Colab\"/></a>"
      ]
    },
    {
      "cell_type": "markdown",
      "metadata": {
        "id": "t1k6Tg-ReiZS"
      },
      "source": [
        "# 資料處理\n",
        "\n",
        "在這個文件中我們使用Pandas執行資料處理與分析。Pandas是一個Python套件，主要用於資料分析與處理。如果你還沒有安裝pandas套件，可以到[pandas官方網頁](https://pandas.pydata.org/)下載。如果你使用anaconda執行環境，它已包括pandas，可以直接使用。以下課程主要參考Datacamp教學網站有關pandas的課程內容。包含以下主題\n",
        "* pandas基礎\n",
        "* 資料導入\n",
        "* 資料清理\n",
        "* 資料處理"
      ]
    },
    {
      "cell_type": "markdown",
      "metadata": {
        "id": "xeT9Hg-jiIFt"
      },
      "source": [
        "## pandas基礎"
      ]
    },
    {
      "cell_type": "code",
      "metadata": {
        "id": "pfSzzb2PegPO"
      },
      "source": [
        "import pandas as pd"
      ],
      "execution_count": null,
      "outputs": []
    },
    {
      "cell_type": "markdown",
      "metadata": {
        "id": "f2J6n3TFi48f"
      },
      "source": [
        "使用pandas所提供的功能前先利用 **import pandas** 將pandas模組導入"
      ]
    },
    {
      "cell_type": "markdown",
      "metadata": {
        "id": "4Zo-5kt8i0BQ"
      },
      "source": [
        "首先我們先到Apple公司蒐集2021年1-6月Apple的股價(AAPL.csv)，將它儲存在data資料夾中。利用pandas檔案讀取功能，將Apple的股價資料讀進。"
      ]
    },
    {
      "cell_type": "code",
      "metadata": {
        "id": "C2w0q_9_iZl5"
      },
      "source": [
        "AAPL = pd.read_csv(\"https://raw.githubusercontent.com/jc7qx/pylearning/master/data/aapldata.csv\")"
      ],
      "execution_count": 19,
      "outputs": []
    },
    {
      "cell_type": "code",
      "metadata": {
        "id": "OBthsH55iwwR",
        "colab": {
          "base_uri": "https://localhost:8080/",
          "height": 203
        },
        "outputId": "e33c937d-a844-46da-e7f4-6409628d95f8"
      },
      "source": [
        "AAPL.head()"
      ],
      "execution_count": 20,
      "outputs": [
        {
          "output_type": "execute_result",
          "data": {
            "text/html": [
              "<div>\n",
              "<style scoped>\n",
              "    .dataframe tbody tr th:only-of-type {\n",
              "        vertical-align: middle;\n",
              "    }\n",
              "\n",
              "    .dataframe tbody tr th {\n",
              "        vertical-align: top;\n",
              "    }\n",
              "\n",
              "    .dataframe thead th {\n",
              "        text-align: right;\n",
              "    }\n",
              "</style>\n",
              "<table border=\"1\" class=\"dataframe\">\n",
              "  <thead>\n",
              "    <tr style=\"text-align: right;\">\n",
              "      <th></th>\n",
              "      <th>date</th>\n",
              "      <th>open</th>\n",
              "      <th>high</th>\n",
              "      <th>low</th>\n",
              "      <th>close</th>\n",
              "      <th>volume</th>\n",
              "    </tr>\n",
              "  </thead>\n",
              "  <tbody>\n",
              "    <tr>\n",
              "      <th>0</th>\n",
              "      <td>2018/3/20</td>\n",
              "      <td>175.24</td>\n",
              "      <td>176.80</td>\n",
              "      <td>174.9400</td>\n",
              "      <td>175.24</td>\n",
              "      <td>19620520</td>\n",
              "    </tr>\n",
              "    <tr>\n",
              "      <th>1</th>\n",
              "      <td>2018/3/19</td>\n",
              "      <td>177.32</td>\n",
              "      <td>177.47</td>\n",
              "      <td>173.6600</td>\n",
              "      <td>175.30</td>\n",
              "      <td>32931110</td>\n",
              "    </tr>\n",
              "    <tr>\n",
              "      <th>2</th>\n",
              "      <td>2018/3/16</td>\n",
              "      <td>178.65</td>\n",
              "      <td>179.12</td>\n",
              "      <td>177.6200</td>\n",
              "      <td>178.02</td>\n",
              "      <td>38313330</td>\n",
              "    </tr>\n",
              "    <tr>\n",
              "      <th>3</th>\n",
              "      <td>2018/3/15</td>\n",
              "      <td>178.50</td>\n",
              "      <td>180.24</td>\n",
              "      <td>178.0701</td>\n",
              "      <td>178.65</td>\n",
              "      <td>22676520</td>\n",
              "    </tr>\n",
              "    <tr>\n",
              "      <th>4</th>\n",
              "      <td>2018/3/14</td>\n",
              "      <td>180.32</td>\n",
              "      <td>180.52</td>\n",
              "      <td>177.8100</td>\n",
              "      <td>178.44</td>\n",
              "      <td>29334630</td>\n",
              "    </tr>\n",
              "  </tbody>\n",
              "</table>\n",
              "</div>"
            ],
            "text/plain": [
              "        date    open    high       low   close    volume\n",
              "0  2018/3/20  175.24  176.80  174.9400  175.24  19620520\n",
              "1  2018/3/19  177.32  177.47  173.6600  175.30  32931110\n",
              "2  2018/3/16  178.65  179.12  177.6200  178.02  38313330\n",
              "3  2018/3/15  178.50  180.24  178.0701  178.65  22676520\n",
              "4  2018/3/14  180.32  180.52  177.8100  178.44  29334630"
            ]
          },
          "metadata": {
            "tags": []
          },
          "execution_count": 20
        }
      ]
    },
    {
      "cell_type": "code",
      "metadata": {
        "colab": {
          "base_uri": "https://localhost:8080/"
        },
        "id": "tcL0pgoEthq8",
        "outputId": "75220316-5986-41bf-acde-89c0d87237a7"
      },
      "source": [
        "type(AAPL)"
      ],
      "execution_count": 21,
      "outputs": [
        {
          "output_type": "execute_result",
          "data": {
            "text/plain": [
              "pandas.core.frame.DataFrame"
            ]
          },
          "metadata": {
            "tags": []
          },
          "execution_count": 21
        }
      ]
    },
    {
      "cell_type": "code",
      "metadata": {
        "colab": {
          "base_uri": "https://localhost:8080/"
        },
        "id": "fzkihlHXyJeP",
        "outputId": "29c75cde-ceed-4f7b-818e-6046dab8e962"
      },
      "source": [
        "AAPL.shape"
      ],
      "execution_count": 22,
      "outputs": [
        {
          "output_type": "execute_result",
          "data": {
            "text/plain": [
              "(377, 6)"
            ]
          },
          "metadata": {
            "tags": []
          },
          "execution_count": 22
        }
      ]
    },
    {
      "cell_type": "code",
      "metadata": {
        "colab": {
          "base_uri": "https://localhost:8080/"
        },
        "id": "5cIea9avyL7s",
        "outputId": "ba324dd1-7ed7-4c64-df26-ff975c679d3d"
      },
      "source": [
        "AAPL.columns"
      ],
      "execution_count": 23,
      "outputs": [
        {
          "output_type": "execute_result",
          "data": {
            "text/plain": [
              "Index(['date', 'open', 'high', 'low', 'close', 'volume'], dtype='object')"
            ]
          },
          "metadata": {
            "tags": []
          },
          "execution_count": 23
        }
      ]
    },
    {
      "cell_type": "code",
      "metadata": {
        "colab": {
          "base_uri": "https://localhost:8080/"
        },
        "id": "M74F-RiOyOGc",
        "outputId": "d2e981ff-961f-4d7d-abe9-0cb3a4c02e4a"
      },
      "source": [
        "type(AAPL.columns)"
      ],
      "execution_count": 24,
      "outputs": [
        {
          "output_type": "execute_result",
          "data": {
            "text/plain": [
              "pandas.core.indexes.base.Index"
            ]
          },
          "metadata": {
            "tags": []
          },
          "execution_count": 24
        }
      ]
    },
    {
      "cell_type": "code",
      "metadata": {
        "colab": {
          "base_uri": "https://localhost:8080/"
        },
        "id": "m-PnMfn7yRkh",
        "outputId": "1b0f72c8-e920-47b5-b500-79aba2e8b412"
      },
      "source": [
        "AAPL.index"
      ],
      "execution_count": 25,
      "outputs": [
        {
          "output_type": "execute_result",
          "data": {
            "text/plain": [
              "RangeIndex(start=0, stop=377, step=1)"
            ]
          },
          "metadata": {
            "tags": []
          },
          "execution_count": 25
        }
      ]
    },
    {
      "cell_type": "code",
      "metadata": {
        "colab": {
          "base_uri": "https://localhost:8080/"
        },
        "id": "1RUSFXuMyVXD",
        "outputId": "4af2bfff-92fe-4d3d-fdee-9c31ba5983d4"
      },
      "source": [
        "type(AAPL.index)"
      ],
      "execution_count": 26,
      "outputs": [
        {
          "output_type": "execute_result",
          "data": {
            "text/plain": [
              "pandas.core.indexes.range.RangeIndex"
            ]
          },
          "metadata": {
            "tags": []
          },
          "execution_count": 26
        }
      ]
    },
    {
      "cell_type": "code",
      "metadata": {
        "colab": {
          "base_uri": "https://localhost:8080/",
          "height": 203
        },
        "id": "wOyV7UYnybJq",
        "outputId": "67d0d060-86c3-4ff0-a4e6-744b7f061833"
      },
      "source": [
        "AAPL.iloc[:5, :]"
      ],
      "execution_count": 27,
      "outputs": [
        {
          "output_type": "execute_result",
          "data": {
            "text/html": [
              "<div>\n",
              "<style scoped>\n",
              "    .dataframe tbody tr th:only-of-type {\n",
              "        vertical-align: middle;\n",
              "    }\n",
              "\n",
              "    .dataframe tbody tr th {\n",
              "        vertical-align: top;\n",
              "    }\n",
              "\n",
              "    .dataframe thead th {\n",
              "        text-align: right;\n",
              "    }\n",
              "</style>\n",
              "<table border=\"1\" class=\"dataframe\">\n",
              "  <thead>\n",
              "    <tr style=\"text-align: right;\">\n",
              "      <th></th>\n",
              "      <th>date</th>\n",
              "      <th>open</th>\n",
              "      <th>high</th>\n",
              "      <th>low</th>\n",
              "      <th>close</th>\n",
              "      <th>volume</th>\n",
              "    </tr>\n",
              "  </thead>\n",
              "  <tbody>\n",
              "    <tr>\n",
              "      <th>0</th>\n",
              "      <td>2018/3/20</td>\n",
              "      <td>175.24</td>\n",
              "      <td>176.80</td>\n",
              "      <td>174.9400</td>\n",
              "      <td>175.24</td>\n",
              "      <td>19620520</td>\n",
              "    </tr>\n",
              "    <tr>\n",
              "      <th>1</th>\n",
              "      <td>2018/3/19</td>\n",
              "      <td>177.32</td>\n",
              "      <td>177.47</td>\n",
              "      <td>173.6600</td>\n",
              "      <td>175.30</td>\n",
              "      <td>32931110</td>\n",
              "    </tr>\n",
              "    <tr>\n",
              "      <th>2</th>\n",
              "      <td>2018/3/16</td>\n",
              "      <td>178.65</td>\n",
              "      <td>179.12</td>\n",
              "      <td>177.6200</td>\n",
              "      <td>178.02</td>\n",
              "      <td>38313330</td>\n",
              "    </tr>\n",
              "    <tr>\n",
              "      <th>3</th>\n",
              "      <td>2018/3/15</td>\n",
              "      <td>178.50</td>\n",
              "      <td>180.24</td>\n",
              "      <td>178.0701</td>\n",
              "      <td>178.65</td>\n",
              "      <td>22676520</td>\n",
              "    </tr>\n",
              "    <tr>\n",
              "      <th>4</th>\n",
              "      <td>2018/3/14</td>\n",
              "      <td>180.32</td>\n",
              "      <td>180.52</td>\n",
              "      <td>177.8100</td>\n",
              "      <td>178.44</td>\n",
              "      <td>29334630</td>\n",
              "    </tr>\n",
              "  </tbody>\n",
              "</table>\n",
              "</div>"
            ],
            "text/plain": [
              "        date    open    high       low   close    volume\n",
              "0  2018/3/20  175.24  176.80  174.9400  175.24  19620520\n",
              "1  2018/3/19  177.32  177.47  173.6600  175.30  32931110\n",
              "2  2018/3/16  178.65  179.12  177.6200  178.02  38313330\n",
              "3  2018/3/15  178.50  180.24  178.0701  178.65  22676520\n",
              "4  2018/3/14  180.32  180.52  177.8100  178.44  29334630"
            ]
          },
          "metadata": {
            "tags": []
          },
          "execution_count": 27
        }
      ]
    },
    {
      "cell_type": "code",
      "metadata": {
        "colab": {
          "base_uri": "https://localhost:8080/",
          "height": 203
        },
        "id": "GFntzZz1ykyL",
        "outputId": "3fbfa102-8f86-4c8b-a7e6-56aeb132a238"
      },
      "source": [
        "AAPL.iloc[-5:, :]"
      ],
      "execution_count": 28,
      "outputs": [
        {
          "output_type": "execute_result",
          "data": {
            "text/html": [
              "<div>\n",
              "<style scoped>\n",
              "    .dataframe tbody tr th:only-of-type {\n",
              "        vertical-align: middle;\n",
              "    }\n",
              "\n",
              "    .dataframe tbody tr th {\n",
              "        vertical-align: top;\n",
              "    }\n",
              "\n",
              "    .dataframe thead th {\n",
              "        text-align: right;\n",
              "    }\n",
              "</style>\n",
              "<table border=\"1\" class=\"dataframe\">\n",
              "  <thead>\n",
              "    <tr style=\"text-align: right;\">\n",
              "      <th></th>\n",
              "      <th>date</th>\n",
              "      <th>open</th>\n",
              "      <th>high</th>\n",
              "      <th>low</th>\n",
              "      <th>close</th>\n",
              "      <th>volume</th>\n",
              "    </tr>\n",
              "  </thead>\n",
              "  <tbody>\n",
              "    <tr>\n",
              "      <th>372</th>\n",
              "      <td>2016/9/26</td>\n",
              "      <td>111.64</td>\n",
              "      <td>113.390</td>\n",
              "      <td>111.550</td>\n",
              "      <td>112.88</td>\n",
              "      <td>29800240</td>\n",
              "    </tr>\n",
              "    <tr>\n",
              "      <th>373</th>\n",
              "      <td>2016/9/23</td>\n",
              "      <td>114.42</td>\n",
              "      <td>114.790</td>\n",
              "      <td>111.550</td>\n",
              "      <td>112.71</td>\n",
              "      <td>52411070</td>\n",
              "    </tr>\n",
              "    <tr>\n",
              "      <th>374</th>\n",
              "      <td>2016/9/22</td>\n",
              "      <td>114.35</td>\n",
              "      <td>114.940</td>\n",
              "      <td>114.000</td>\n",
              "      <td>114.62</td>\n",
              "      <td>31048170</td>\n",
              "    </tr>\n",
              "    <tr>\n",
              "      <th>375</th>\n",
              "      <td>2016/9/21</td>\n",
              "      <td>113.85</td>\n",
              "      <td>113.989</td>\n",
              "      <td>112.441</td>\n",
              "      <td>113.55</td>\n",
              "      <td>35951900</td>\n",
              "    </tr>\n",
              "    <tr>\n",
              "      <th>376</th>\n",
              "      <td>2016/9/20</td>\n",
              "      <td>113.05</td>\n",
              "      <td>114.120</td>\n",
              "      <td>112.510</td>\n",
              "      <td>113.57</td>\n",
              "      <td>34494150</td>\n",
              "    </tr>\n",
              "  </tbody>\n",
              "</table>\n",
              "</div>"
            ],
            "text/plain": [
              "          date    open     high      low   close    volume\n",
              "372  2016/9/26  111.64  113.390  111.550  112.88  29800240\n",
              "373  2016/9/23  114.42  114.790  111.550  112.71  52411070\n",
              "374  2016/9/22  114.35  114.940  114.000  114.62  31048170\n",
              "375  2016/9/21  113.85  113.989  112.441  113.55  35951900\n",
              "376  2016/9/20  113.05  114.120  112.510  113.57  34494150"
            ]
          },
          "metadata": {
            "tags": []
          },
          "execution_count": 28
        }
      ]
    },
    {
      "cell_type": "code",
      "metadata": {
        "colab": {
          "base_uri": "https://localhost:8080/",
          "height": 142
        },
        "id": "KzNKOOZzyrp1",
        "outputId": "179a3f19-99a3-412e-ac0d-71c1183eb883"
      },
      "source": [
        "AAPL.head(3)"
      ],
      "execution_count": 29,
      "outputs": [
        {
          "output_type": "execute_result",
          "data": {
            "text/html": [
              "<div>\n",
              "<style scoped>\n",
              "    .dataframe tbody tr th:only-of-type {\n",
              "        vertical-align: middle;\n",
              "    }\n",
              "\n",
              "    .dataframe tbody tr th {\n",
              "        vertical-align: top;\n",
              "    }\n",
              "\n",
              "    .dataframe thead th {\n",
              "        text-align: right;\n",
              "    }\n",
              "</style>\n",
              "<table border=\"1\" class=\"dataframe\">\n",
              "  <thead>\n",
              "    <tr style=\"text-align: right;\">\n",
              "      <th></th>\n",
              "      <th>date</th>\n",
              "      <th>open</th>\n",
              "      <th>high</th>\n",
              "      <th>low</th>\n",
              "      <th>close</th>\n",
              "      <th>volume</th>\n",
              "    </tr>\n",
              "  </thead>\n",
              "  <tbody>\n",
              "    <tr>\n",
              "      <th>0</th>\n",
              "      <td>2018/3/20</td>\n",
              "      <td>175.24</td>\n",
              "      <td>176.80</td>\n",
              "      <td>174.94</td>\n",
              "      <td>175.24</td>\n",
              "      <td>19620520</td>\n",
              "    </tr>\n",
              "    <tr>\n",
              "      <th>1</th>\n",
              "      <td>2018/3/19</td>\n",
              "      <td>177.32</td>\n",
              "      <td>177.47</td>\n",
              "      <td>173.66</td>\n",
              "      <td>175.30</td>\n",
              "      <td>32931110</td>\n",
              "    </tr>\n",
              "    <tr>\n",
              "      <th>2</th>\n",
              "      <td>2018/3/16</td>\n",
              "      <td>178.65</td>\n",
              "      <td>179.12</td>\n",
              "      <td>177.62</td>\n",
              "      <td>178.02</td>\n",
              "      <td>38313330</td>\n",
              "    </tr>\n",
              "  </tbody>\n",
              "</table>\n",
              "</div>"
            ],
            "text/plain": [
              "        date    open    high     low   close    volume\n",
              "0  2018/3/20  175.24  176.80  174.94  175.24  19620520\n",
              "1  2018/3/19  177.32  177.47  173.66  175.30  32931110\n",
              "2  2018/3/16  178.65  179.12  177.62  178.02  38313330"
            ]
          },
          "metadata": {
            "tags": []
          },
          "execution_count": 29
        }
      ]
    },
    {
      "cell_type": "code",
      "metadata": {
        "colab": {
          "base_uri": "https://localhost:8080/",
          "height": 203
        },
        "id": "e5WvToYgyvaH",
        "outputId": "7e0fe85e-2ac7-419b-c419-e694f72c6946"
      },
      "source": [
        "AAPL.tail()"
      ],
      "execution_count": 30,
      "outputs": [
        {
          "output_type": "execute_result",
          "data": {
            "text/html": [
              "<div>\n",
              "<style scoped>\n",
              "    .dataframe tbody tr th:only-of-type {\n",
              "        vertical-align: middle;\n",
              "    }\n",
              "\n",
              "    .dataframe tbody tr th {\n",
              "        vertical-align: top;\n",
              "    }\n",
              "\n",
              "    .dataframe thead th {\n",
              "        text-align: right;\n",
              "    }\n",
              "</style>\n",
              "<table border=\"1\" class=\"dataframe\">\n",
              "  <thead>\n",
              "    <tr style=\"text-align: right;\">\n",
              "      <th></th>\n",
              "      <th>date</th>\n",
              "      <th>open</th>\n",
              "      <th>high</th>\n",
              "      <th>low</th>\n",
              "      <th>close</th>\n",
              "      <th>volume</th>\n",
              "    </tr>\n",
              "  </thead>\n",
              "  <tbody>\n",
              "    <tr>\n",
              "      <th>372</th>\n",
              "      <td>2016/9/26</td>\n",
              "      <td>111.64</td>\n",
              "      <td>113.390</td>\n",
              "      <td>111.550</td>\n",
              "      <td>112.88</td>\n",
              "      <td>29800240</td>\n",
              "    </tr>\n",
              "    <tr>\n",
              "      <th>373</th>\n",
              "      <td>2016/9/23</td>\n",
              "      <td>114.42</td>\n",
              "      <td>114.790</td>\n",
              "      <td>111.550</td>\n",
              "      <td>112.71</td>\n",
              "      <td>52411070</td>\n",
              "    </tr>\n",
              "    <tr>\n",
              "      <th>374</th>\n",
              "      <td>2016/9/22</td>\n",
              "      <td>114.35</td>\n",
              "      <td>114.940</td>\n",
              "      <td>114.000</td>\n",
              "      <td>114.62</td>\n",
              "      <td>31048170</td>\n",
              "    </tr>\n",
              "    <tr>\n",
              "      <th>375</th>\n",
              "      <td>2016/9/21</td>\n",
              "      <td>113.85</td>\n",
              "      <td>113.989</td>\n",
              "      <td>112.441</td>\n",
              "      <td>113.55</td>\n",
              "      <td>35951900</td>\n",
              "    </tr>\n",
              "    <tr>\n",
              "      <th>376</th>\n",
              "      <td>2016/9/20</td>\n",
              "      <td>113.05</td>\n",
              "      <td>114.120</td>\n",
              "      <td>112.510</td>\n",
              "      <td>113.57</td>\n",
              "      <td>34494150</td>\n",
              "    </tr>\n",
              "  </tbody>\n",
              "</table>\n",
              "</div>"
            ],
            "text/plain": [
              "          date    open     high      low   close    volume\n",
              "372  2016/9/26  111.64  113.390  111.550  112.88  29800240\n",
              "373  2016/9/23  114.42  114.790  111.550  112.71  52411070\n",
              "374  2016/9/22  114.35  114.940  114.000  114.62  31048170\n",
              "375  2016/9/21  113.85  113.989  112.441  113.55  35951900\n",
              "376  2016/9/20  113.05  114.120  112.510  113.57  34494150"
            ]
          },
          "metadata": {
            "tags": []
          },
          "execution_count": 30
        }
      ]
    },
    {
      "cell_type": "code",
      "metadata": {
        "colab": {
          "base_uri": "https://localhost:8080/"
        },
        "id": "BfbcIFU7yw9Q",
        "outputId": "f2468916-533e-4b34-b338-93780e02e6ba"
      },
      "source": [
        "AAPL.info()"
      ],
      "execution_count": 31,
      "outputs": [
        {
          "output_type": "stream",
          "text": [
            "<class 'pandas.core.frame.DataFrame'>\n",
            "RangeIndex: 377 entries, 0 to 376\n",
            "Data columns (total 6 columns):\n",
            " #   Column  Non-Null Count  Dtype  \n",
            "---  ------  --------------  -----  \n",
            " 0   date    377 non-null    object \n",
            " 1   open    377 non-null    float64\n",
            " 2   high    377 non-null    float64\n",
            " 3   low     377 non-null    float64\n",
            " 4   close   377 non-null    float64\n",
            " 5   volume  377 non-null    int64  \n",
            "dtypes: float64(4), int64(1), object(1)\n",
            "memory usage: 17.8+ KB\n"
          ],
          "name": "stdout"
        }
      ]
    },
    {
      "cell_type": "code",
      "metadata": {
        "id": "xuf45q1Gyzpp"
      },
      "source": [
        ""
      ],
      "execution_count": null,
      "outputs": []
    }
  ]
}